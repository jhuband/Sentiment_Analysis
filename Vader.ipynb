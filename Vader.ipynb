{
 "cells": [
  {
   "cell_type": "markdown",
   "metadata": {},
   "source": [
    "# VADER Examples\n"
   ]
  },
  {
   "cell_type": "markdown",
   "metadata": {},
   "source": [
    "### Install VADER\n",
    "\n",
    "If you haven't already installed the VADER package, you can do it as follows:\n",
    "#### **On your laptop**\n",
    "`pip install vaderSentiment`\n",
    "\n",
    "#### **On Rivanna**\n",
    "`pip install --user vaderSentiment`\n",
    "\n",
    "_______________________________________________"
   ]
  },
  {
   "cell_type": "markdown",
   "metadata": {},
   "source": [
    "### A Beginner Example\n",
    "\n",
    "The beauty behind VADER is that a lot of work has been done for you.  \n",
    "All you need to do is supply the text to analyze."
   ]
  },
  {
   "cell_type": "code",
   "execution_count": null,
   "metadata": {},
   "outputs": [],
   "source": [
    "from vaderSentiment.vaderSentiment import SentimentIntensityAnalyzer\n",
    "\n",
    "#Set up analyzer\n",
    "analyzer = SentimentIntensityAnalyzer()\n",
    "\n",
    "#Feed in a sentence\n",
    "sentence = \"I hate scary movies.\"\n",
    "score = analyzer.polarity_scores(sentence)\n",
    "print(score)\n"
   ]
  },
  {
   "cell_type": "markdown",
   "metadata": {},
   "source": [
    "### What does the output mean?\n",
    "\n",
    "The score shows the percentages for how negative, neutral, and positive the words are, \n",
    "as well as an overall score (the compound value) for the sentiment.\n",
    "\n",
    "### How do we interpret the compound value?\n",
    "The compund value gives a single score score for the sentiment.  \n",
    "It will fall within -1 (negative) and +1 (positive).\n",
    "\n",
    "Although you may want to play with these values, other users of VADER have found that \n",
    "- anything greater than or equal to 0.05 qualifies as a positive sentiment\n",
    "- anything less than or equal to  -0.05 qualifies as a negative sentiment\n",
    "\n",
    "__________________________________________________________________\n",
    "\n",
    "### Hands-on Activity:\n",
    "Type in a sentence of your choosing and see what score it receives.\n",
    "\n",
    "______________________________"
   ]
  },
  {
   "cell_type": "markdown",
   "metadata": {},
   "source": [
    "Let's create a function that will interpret the results for us.\n",
    "### Example with a function to interpret the score"
   ]
  },
  {
   "cell_type": "code",
   "execution_count": null,
   "metadata": {},
   "outputs": [],
   "source": [
    "def display(score):\n",
    "    \n",
    "    #Display output\n",
    "    \n",
    "    print(\"Negative score:   {:.2f}\".format(score['neg']))\n",
    "    print(\"Neutral score:    {:.2f}\".format(score['neu']))\n",
    "    print(\"Positive score:   {:.2f}\".format(score['pos']))\n",
    "    if score['compound'] <= - 0.05:\n",
    "        sentiment = 'negative'\n",
    "    elif score['compound'] < 0.05:\n",
    "        sentiment = 'neutral'\n",
    "    else:\n",
    "        sentiment = 'positive'\n",
    "\n",
    "    print(\"Overall result:   {}\".format(sentiment))\n"
   ]
  },
  {
   "cell_type": "code",
   "execution_count": null,
   "metadata": {},
   "outputs": [],
   "source": [
    "# Run through analyzer\n",
    "score = analyzer.polarity_scores(sentence)\n",
    "display(score)"
   ]
  },
  {
   "cell_type": "markdown",
   "metadata": {},
   "source": [
    "___________________________________________\n",
    "\n",
    "### What about more than a single sentence?\n",
    "\n",
    "We can read in a text file with a list of items and see what the sentiment for each item is.\n",
    "\n",
    "In the following example, the file bookcase_reviews.csv has a list of reviewer comments taken from a bookcase that I looked at on-line.  I want to determine the sentiment score for each reviewer."
   ]
  },
  {
   "cell_type": "code",
   "execution_count": null,
   "metadata": {},
   "outputs": [],
   "source": [
    "analyzer = SentimentIntensityAnalyzer()\n",
    "\n",
    "with open(\"bookcase_reviews.csv\") as myFile:\n",
    "    #  Read in the reviews and assess them one at a time\n",
    "    lines = myFile.readlines()\n",
    "    for line in lines:\n",
    "        score = analyzer.polarity_scores(line)\n",
    "        print(\"Sentence:  {}\".format(line))\n",
    "        display(score)\n",
    "        print(\"****************************\")"
   ]
  },
  {
   "cell_type": "markdown",
   "metadata": {},
   "source": [
    "### What if I want an overall score?\n",
    "\n",
    "I can read in the entire contents of the file and run it through the analyzer."
   ]
  },
  {
   "cell_type": "code",
   "execution_count": null,
   "metadata": {},
   "outputs": [],
   "source": [
    "# Read in the \n",
    "myFile = open(\"bookcase_reviews.csv\", \"r\") \n",
    "all_reviews = myFile.readlines()\n",
    "myFile.close()\n",
    "\n",
    "# Run through analyzer\n",
    "score = analyzer.polarity_scores(all_reviews)\n",
    "display(score)"
   ]
  },
  {
   "cell_type": "markdown",
   "metadata": {},
   "source": [
    "___________________________\n",
    "### Homework Activity:\n",
    "\n",
    "Use a file of your choosing and determine the sentiment of the contents.\n",
    "\n",
    "___________________________"
   ]
  }
 ],
 "metadata": {
  "kernelspec": {
   "display_name": "Python 3",
   "language": "python",
   "name": "python3"
  },
  "language_info": {
   "codemirror_mode": {
    "name": "ipython",
    "version": 3
   },
   "file_extension": ".py",
   "mimetype": "text/x-python",
   "name": "python",
   "nbconvert_exporter": "python",
   "pygments_lexer": "ipython3",
   "version": "3.7.4"
  }
 },
 "nbformat": 4,
 "nbformat_minor": 4
}
