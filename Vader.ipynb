{
 "cells": [
  {
   "cell_type": "markdown",
   "metadata": {},
   "source": [
    "# VADER Examples\n"
   ]
  },
  {
   "cell_type": "markdown",
   "metadata": {},
   "source": [
    "### Install VADER\n",
    "\n",
    "If you haven't already installed the VADER package, you can do it as follows:\n",
    "#### **On your laptop**\n",
    "`pip install vaderSentiment`\n",
    "\n",
    "#### **On Rivanna**\n",
    "`pip install --user vaderSentiment` \n",
    "\n",
    "#### **In a Jupyter Notebook**\n",
    "`!pip install vaderSentiment`\n",
    "\n",
    "_______________________________________________"
   ]
  },
  {
   "cell_type": "markdown",
   "metadata": {},
   "source": [
    "### A Beginner Example\n",
    "\n",
    "The beauty behind VADER is that a lot of work has been done for you.  \n",
    "All you need to do is supply the text to analyze."
   ]
  },
  {
   "cell_type": "code",
   "execution_count": 9,
   "metadata": {},
   "outputs": [
    {
     "name": "stdout",
     "output_type": "stream",
     "text": [
      "{'neg': 0.775, 'neu': 0.225, 'pos': 0.0, 'compound': -0.7845}\n"
     ]
    }
   ],
   "source": [
    "from vaderSentiment.vaderSentiment import SentimentIntensityAnalyzer\n",
    "\n",
    "#Set up analyzer\n",
    "analyzer = SentimentIntensityAnalyzer()\n",
    "\n",
    "#Feed in a sentence\n",
    "sentence = \"I hate scary movies.\"\n",
    "score = analyzer.polarity_scores(sentence)\n",
    "print(score)\n"
   ]
  },
  {
   "cell_type": "markdown",
   "metadata": {},
   "source": [
    "### What does the output mean?\n",
    "\n",
    "The score shows the percentages for how negative, neutral, and positive the words are, \n",
    "as well as an overall score (the compound value) for the sentiment.\n",
    "\n",
    "### How do we interpret the compound value?\n",
    "The compund value gives a single score score for the sentiment.  \n",
    "It will fall within -1 (negative) and +1 (positive).\n",
    "\n",
    "Although you may want to play with these values, other users of VADER have found that \n",
    "- anything greater than or equal to 0.05 qualifies as a positive sentiment\n",
    "- anything less than or equal to  -0.05 qualifies as a negative sentiment\n",
    "\n",
    "__________________________________________________________________\n",
    "\n",
    "### Hands-on Activity:\n",
    "1. Change the sentence to \"I HATE scary movies!\" and rerun the analyzer.  Do you notice a difference?\n",
    "2. Type in a sentence of your choosing and see what score it receives.\n",
    "\n",
    "______________________________"
   ]
  },
  {
   "cell_type": "markdown",
   "metadata": {},
   "source": [
    "Let's create a function that will interpret the results for us.\n",
    "### Example with a function to interpret the score"
   ]
  },
  {
   "cell_type": "code",
   "execution_count": 10,
   "metadata": {},
   "outputs": [],
   "source": [
    "def display(score):\n",
    "    \n",
    "    #Display output\n",
    "    \n",
    "    print(\"Negative score:   {:.2f}\".format(score['neg']))\n",
    "    print(\"Neutral score:    {:.2f}\".format(score['neu']))\n",
    "    print(\"Positive score:   {:.2f}\".format(score['pos']))\n",
    "    if score['compound'] <= - 0.05:\n",
    "        sentiment = 'negative'\n",
    "    elif score['compound'] < 0.05:\n",
    "        sentiment = 'neutral'\n",
    "    else:\n",
    "        sentiment = 'positive'\n",
    "\n",
    "    print(\"Overall result:   {}\".format(sentiment))\n"
   ]
  },
  {
   "cell_type": "code",
   "execution_count": 11,
   "metadata": {},
   "outputs": [
    {
     "name": "stdout",
     "output_type": "stream",
     "text": [
      "Negative score:   0.78\n",
      "Neutral score:    0.23\n",
      "Positive score:   0.00\n",
      "Overall result:   negative\n"
     ]
    }
   ],
   "source": [
    "# Run through analyzer\n",
    "score = analyzer.polarity_scores(sentence)\n",
    "display(score)"
   ]
  },
  {
   "cell_type": "markdown",
   "metadata": {},
   "source": [
    "___________________________________________\n",
    "\n",
    "### What about more than a single sentence?\n",
    "\n",
    "We can read in a text file with a list of items and see what the sentiment for each item is.\n",
    "\n",
    "In the following example, the file bookcase_reviews.csv has a list of reviewer comments taken from a bookcase that I looked at on-line.  I want to determine the sentiment score for each reviewer."
   ]
  },
  {
   "cell_type": "code",
   "execution_count": 13,
   "metadata": {},
   "outputs": [
    {
     "name": "stdout",
     "output_type": "stream",
     "text": [
      "Sentence:  Affordable Simple Bookcase. It was easy to assemble. No missing parts. If I need to get another one, I would buy it again.\n",
      "\n",
      "Negative score:   0.00\n",
      "Neutral score:    0.81\n",
      "Positive score:   0.19\n",
      "Overall result:   positive\n",
      "****************************\n",
      "Sentence:  So this isn’t a super quality bookcase but just what I was looking for. For the price it’s honestly better than expected. Pretty simple to put together. I bought it for my sons room and it does the job!\n",
      "\n",
      "Negative score:   0.00\n",
      "Neutral score:    0.70\n",
      "Positive score:   0.30\n",
      "Overall result:   positive\n",
      "****************************\n",
      "Sentence:  Quality is okay and it was very easy to put together, but when all done it’s just wasn’t the look I was going for. Purchased 2 and returned 2. Very cheap looking. Looks better in the advertisement.\n",
      "\n",
      "Negative score:   0.00\n",
      "Neutral score:    0.82\n",
      "Positive score:   0.18\n",
      "Overall result:   positive\n",
      "****************************\n",
      "Sentence:  You can't beat this deal. Good quality, stylish, and a great price.\n",
      "\n",
      "Negative score:   0.00\n",
      "Neutral score:    0.59\n",
      "Positive score:   0.41\n",
      "Overall result:   positive\n",
      "****************************\n",
      "Sentence:  Easy to put together! Nice shelf just a tad rocky\n",
      "\n",
      "Negative score:   0.00\n",
      "Neutral score:    0.57\n",
      "Positive score:   0.43\n",
      "Overall result:   positive\n",
      "****************************\n",
      "Sentence:  This bookshelf is surprisingly good quality for the price - the box said \"Made in Italy\" which was unexpected. It took about 40 minutes to put together with the help of a toddler. Clear directions and pretty easy to not screw up; will need a screwdriver and hammer. The bookshelf is perfect for most toddler books - but is not deep enough for some of the horizontal titles; they stick out. This wouldn't be the best shelf for larger artbooks or text books, but for kid books, novels, and media it is perfect. It is not deep enough for most baskets and bins (see photo) but is slim enough to be tucked in our hallway \"nook\" with a small footprint.\n",
      "\n",
      "Negative score:   0.03\n",
      "Neutral score:    0.81\n",
      "Positive score:   0.16\n",
      "Overall result:   positive\n",
      "****************************\n",
      "Sentence:  The bookshelf itself it nice but I’m not happy about the wall anchor. I put the drywall anchor in according to the instructions. However, the screw is too long so it doesn’t screw in all the way. Now I’ve got to rip out the plastic anchor part and get something bigger since there is a big hole in my wall.\n",
      "\n",
      "Negative score:   0.12\n",
      "Neutral score:    0.85\n",
      "Positive score:   0.03\n",
      "Overall result:   negative\n",
      "****************************\n",
      "Sentence:  Such a mistake. Poor quality. On first step, you insert dowels in top and bottom shelf; second step, use screws to attach sides. BUT! As you tighten screws, the dowels end up breaking through their holes. Back in step one, you need to have shoved the dowels much farther into the shelves - farther than you might want (for fear of breaking the shelves). I’m a strong guy, but not Hulk strong - how could my tightening the screws be powerful enough to pull the dowels through the sides?? Wouldn’t you think the pressure would push the dowels further into the shelves, rather than through the cheap plywood and out of the sides? Weird.\n",
      "\n",
      "Negative score:   0.17\n",
      "Neutral score:    0.75\n",
      "Positive score:   0.08\n",
      "Overall result:   negative\n",
      "****************************\n",
      "Sentence:  Good quality for the price and quick assembly. Would be a great size and option for a dorm room.\n",
      "\n",
      "Negative score:   0.00\n",
      "Neutral score:    0.71\n",
      "Positive score:   0.29\n",
      "Overall result:   positive\n",
      "****************************\n"
     ]
    }
   ],
   "source": [
    "analyzer = SentimentIntensityAnalyzer()\n",
    "\n",
    "with open(\"bookcase_reviews.txt\") as myFile:\n",
    "    #  Read in the reviews and assess them one at a time\n",
    "    lines = myFile.readlines()\n",
    "    for line in lines:\n",
    "        score = analyzer.polarity_scores(line)\n",
    "        print(\"Sentence:  {}\".format(line))\n",
    "        display(score)\n",
    "        print(\"****************************\")"
   ]
  },
  {
   "cell_type": "markdown",
   "metadata": {},
   "source": [
    "### What if I want an overall score?\n",
    "\n",
    "I can read in the entire contents of the file and run it through the analyzer."
   ]
  },
  {
   "cell_type": "code",
   "execution_count": 22,
   "metadata": {},
   "outputs": [
    {
     "name": "stdout",
     "output_type": "stream",
     "text": [
      "Negative score:   0.07\n",
      "Neutral score:    0.73\n",
      "Positive score:   0.20\n",
      "Overall result:   positive\n"
     ]
    }
   ],
   "source": [
    "# Read in the data\n",
    "with open(\"bookcase_reviews.txt\", \"r\") as f:\n",
    "    all_reviews = f.readlines()\n",
    "    \n",
    "\n",
    "# Run through analyzer\n",
    "score = analyzer.polarity_scores(all_reviews)\n",
    "display(score)"
   ]
  },
  {
   "cell_type": "markdown",
   "metadata": {},
   "source": [
    "### Using Pandas to manipulate data\n",
    "\n",
    "With pandas, we can create a table of information.\n",
    "\n",
    "In this case, we want to make sure that we separate on \"new line\" notation, rather than commas.  Also, we need to let pandas know that there is no header row in the file.  We can provide a header name (e.g., Reviews) for our table.\n"
   ]
  },
  {
   "cell_type": "code",
   "execution_count": 84,
   "metadata": {},
   "outputs": [
    {
     "name": "stdout",
     "output_type": "stream",
     "text": [
      "                                             Reviews\n",
      "0  Affordable Simple Bookcase. It was easy to ass...\n",
      "1  So this isn’t a super quality bookcase but jus...\n",
      "2  Quality is okay and it was very easy to put to...\n",
      "3  You can't beat this deal. Good quality, stylis...\n",
      "4  Easy to put together! Nice shelf just a tad rocky\n"
     ]
    }
   ],
   "source": [
    "import pandas as pd\n",
    "\n",
    "df = pd.read_csv(\"bookcase_reviews.txt\", sep=\"\\n\", header = None, names=['Reviews'])\n",
    "print(df.head(5))"
   ]
  },
  {
   "cell_type": "markdown",
   "metadata": {},
   "source": [
    "Next, we can submit the column of Reviews to the analyzer to get the overall polarity score."
   ]
  },
  {
   "cell_type": "code",
   "execution_count": 86,
   "metadata": {},
   "outputs": [
    {
     "data": {
      "text/plain": [
       "{'neg': 0.072, 'neu': 0.739, 'pos': 0.189, 'compound': 0.9964}"
      ]
     },
     "execution_count": 86,
     "metadata": {},
     "output_type": "execute_result"
    }
   ],
   "source": [
    "score = analyzer.polarity_scores(df['Reviews'])\n",
    "score"
   ]
  },
  {
   "cell_type": "markdown",
   "metadata": {},
   "source": [
    "But, what if we want to create a column with the compound scores for the reviews?\n",
    "\n",
    "We simply apply the polarity_scores function to each of the elements in the Reviews column."
   ]
  },
  {
   "cell_type": "code",
   "execution_count": 87,
   "metadata": {},
   "outputs": [
    {
     "name": "stdout",
     "output_type": "stream",
     "text": [
      "                                             Reviews  Compound\n",
      "0  Affordable Simple Bookcase. It was easy to ass...    0.5842\n",
      "1  So this isn’t a super quality bookcase but jus...    0.9422\n",
      "2  Quality is okay and it was very easy to put to...    0.7504\n",
      "3  You can't beat this deal. Good quality, stylis...    0.7906\n",
      "4  Easy to put together! Nice shelf just a tad rocky    0.7177\n"
     ]
    }
   ],
   "source": [
    "each_score = df['Reviews'].apply(analyzer.polarity_scores)\n",
    "\n",
    "df['Compound'] =  [item['compound'] for item in each_score]\n",
    "\n",
    "print(df.head(5))\n",
    "\n"
   ]
  },
  {
   "cell_type": "markdown",
   "metadata": {},
   "source": [
    "___________________________\n",
    "### Homework Activity:\n",
    "\n",
    "Suppose we want a list of column of that has a label for each review (e.g., 'positive', or 'negative', or 'neutral').  How would you do that?\n",
    "\n",
    "___________________________"
   ]
  }
 ],
 "metadata": {
  "kernelspec": {
   "display_name": "Python 3",
   "language": "python",
   "name": "python3"
  },
  "language_info": {
   "codemirror_mode": {
    "name": "ipython",
    "version": 3
   },
   "file_extension": ".py",
   "mimetype": "text/x-python",
   "name": "python",
   "nbconvert_exporter": "python",
   "pygments_lexer": "ipython3",
   "version": "3.8.8"
  }
 },
 "nbformat": 4,
 "nbformat_minor": 4
}
